{
 "cells": [
  {
   "cell_type": "markdown",
   "metadata": {
    "collapsed": true
   },
   "source": [
    "# 1. PubMed\n",
    "\n",
    "Search PubMed for papers\n",
    "\n",
    "https://www.ncbi.nlm.nih.gov/pubmed/\n",
    "\n",
    "https://www.ncbi.nlm.nih.gov/books/NBK25499/"
   ]
  },
  {
   "cell_type": "code",
   "execution_count": 3,
   "metadata": {},
   "outputs": [],
   "source": [
    "import os\n",
    "import lcp.reuse as reuse\n",
    "from Bio import Entrez\n",
    "from IPython.display import display\n",
    "import matplotlib.pyplot as plt\n",
    "import numpy as np\n",
    "import pandas as pd"
   ]
  },
  {
   "cell_type": "markdown",
   "metadata": {},
   "source": [
    "# Define search queries"
   ]
  },
  {
   "cell_type": "code",
   "execution_count": 2,
   "metadata": {},
   "outputs": [],
   "source": [
    "MIMIC_QUERY = '(mimic-ii OR mimic-iii OR mimic-iv OR mimicii OR mimiciii OR mimiciv OR mimic-2 OR mimic-3 OR mimic-4 OR mimic2 OR mimic3 OR mimic4)'"
   ]
  },
  {
   "cell_type": "code",
   "execution_count": 4,
   "metadata": {},
   "outputs": [],
   "source": [
    "PROJECT = 'MIMIC' #'eICU'\n",
    "\n",
    "def full_query(base_query, restriction_query):\n",
    "    return ' AND '.join([base_query, restriction_query])\n",
    "\n",
    "entrez_email = 'mimic-support@physionet.org'\n",
    "if PROJECT == 'MIMIC':\n",
    "    PMID = None\n",
    "elif PROJECT == 'eICU':\n",
    "    # Retrieves publications which cite this reference\n",
    "    PMID = '30204154'\n",
    "\n",
    "if PROJECT == 'MIMIC':\n",
    "    base_query = MIMIC_QUERY\n",
    "elif PROJECT == 'eICU':\n",
    "    base_query = f'(eicu-crd OR \"eICU Collaborative Research Database\" OR (eicu AND ({MIMIC_QUERY} OR database OR MIT OR Phillips)))'\n",
    "# Other terms added to remove false positives. The more terms added without increasing FPs, the better.\n",
    "if PROJECT == 'MIMIC':\n",
    "    restriction_query = '(physionet OR icu OR \"intensive care\" OR \"critical care\")'\n",
    "elif PROJECT == 'eICU':\n",
    "    restriction_query = '(\"intensive care\" OR \"critical care\")'\n",
    "# more restriction keyword ideas: clinical, database, waveform (not suitable on their own due to general mimic term)\n",
    "full_query = full_query(base_query, restriction_query)\n",
    "\n",
    "if PMID:\n",
    "    search_strings = [\n",
    "        'PMID'\n",
    "    ]\n",
    "else:\n",
    "    search_strings = [\n",
    "        #base_query#,\n",
    "        full_query\n",
    "    ]"
   ]
  },
  {
   "cell_type": "code",
   "execution_count": null,
   "metadata": {},
   "outputs": [],
   "source": [
    "# search_results = reuse.search_list(search_strings, entrez_email)\n",
    "if PMID:\n",
    "    citations = []\n",
    "    pmc_ids = Entrez.read(Entrez.elink(dbfrom='pubmed', db='pmc', LinkName='pubmed_pmc_refs', from_uid=PMID))\n",
    "    pmc_ids = [list(i.values())[0] for i in pmc_ids[0]['LinkSetDb'][0]['Link']]\n",
    "    pm_ids = Entrez.read(Entrez.elink(dbfrom='pmc', db='pubmed', LinkName='pmc_pubmed', from_uid=','.join(pmc_ids)))\n",
    "    for pm_id in [list(i.values())[0] for i in pm_ids[0]['LinkSetDb'][0]['Link']]:\n",
    "        citations.append(pm_id)\n",
    "    search_results_all = reuse.search_list(entrez_email, ids=citations, all=True)\n",
    "else:\n",
    "    search_results_all = reuse.search_list(entrez_email, search_strings=search_strings, all=True)"
   ]
  },
  {
   "cell_type": "code",
   "execution_count": null,
   "metadata": {},
   "outputs": [],
   "source": [
    "# Display number of results\n",
    "if PMID:\n",
    "    result = search_results_all['PMID']\n",
    "    print(f'PMID:\\n - Count: {len(result.index)}')\n",
    "else:\n",
    "    for ss in search_strings:\n",
    "        result = search_results_all[ss]\n",
    "        print(f'{ss}:\\n - Count: {len(result.index)}')"
   ]
  },
  {
   "cell_type": "code",
   "execution_count": null,
   "metadata": {},
   "outputs": [],
   "source": [
    "# Write the titles to files\n",
    "write_dir = os.path.join('search_results', PROJECT, 'pubmed')\n",
    "os.makedirs(write_dir, exist_ok=True)\n",
    "\n",
    "if PMID:\n",
    "    search_results_all['PMID'].to_csv(os.path.join(write_dir, 'PMID-citations-all.csv'), index=False)\n",
    "else:\n",
    "    search_results_all[base_query].to_csv(os.path.join(write_dir, 'without-constraints-all.csv'), index=False)\n",
    "    search_results_all[full_query].to_csv(os.path.join(write_dir, 'with-constraints-all.csv'), index=False)\n",
    "\n",
    "# base_query_file = os.path.join(write_dir, 'without-constraints.txt')\n",
    "# with open(base_query_file, 'w') as f:\n",
    "#     for line in search_results[base_query].paper_titles:\n",
    "#         f.write(line+'\\n')\n",
    "\n",
    "# full_query_file = os.path.join(write_dir, 'with-constraints.txt')\n",
    "# with open(full_query_file, 'w') as f:\n",
    "#     for line in search_results[full_query].paper_titles:\n",
    "#         f.write(line+'\\n')"
   ]
  },
  {
   "cell_type": "code",
   "execution_count": null,
   "metadata": {},
   "outputs": [],
   "source": [
    "# Create a new one for each year\n",
    "if PMID:\n",
    "    all_years = sorted(set(list(search_results_all['PMID']['Publication Year'])))\n",
    "    for year in all_years:\n",
    "        year_df = search_results_all['PMID'][search_results_all['PMID']['Publication Year'] == year]\n",
    "        year_df.to_csv(os.path.join(write_dir, f'PMID-citations-all_{year}.csv'), index=False)\n",
    "else:\n",
    "    all_years = sorted(set(list(search_results_all[full_query]['Publication Year'])))\n",
    "    for year in all_years:\n",
    "        year_df_without = search_results_all[base_query][search_results_all[base_query]['Publication Year'] == year]\n",
    "        year_df_with = search_results_all[full_query][search_results_all[full_query]['Publication Year'] == year]\n",
    "        year_df_without.to_csv(os.path.join(write_dir, f'without-constraints-all_{year}.csv'), index=False)\n",
    "        year_df_with.to_csv(os.path.join(write_dir, f'with-constraints-all_{year}.csv'), index=False)"
   ]
  },
  {
   "cell_type": "code",
   "execution_count": null,
   "metadata": {},
   "outputs": [],
   "source": [
    "# Create a histogram of number of publications each year\n",
    "if PMID:\n",
    "    all_years = sorted(set(list(search_results_all['PMID']['Publication Year'])))\n",
    "\n",
    "    years = []\n",
    "    for year in all_years:\n",
    "        year_df = search_results_all['PMID'][search_results_all['PMID']['Publication Year'] == year]\n",
    "\n",
    "        for _ in range(len(year_df.index)):\n",
    "            years.append(year)\n",
    "\n",
    "    plt.figure(figsize=(10,6))\n",
    "    plt.hist(years, facecolor='k', edgecolor='w', bins=np.arange(len(all_years)+1)-0.5)\n",
    "    plt.savefig(os.path.join(write_dir, 'PMID-citations_histogram.jpg'))\n",
    "    plt.xlabel('Year', fontsize=12)\n",
    "    plt.ylabel('Number of Publications', fontsize=12)\n",
    "    plt.show()\n",
    "else:\n",
    "    all_years = sorted(set(list(search_results_all[full_query]['Publication Year'])))\n",
    "\n",
    "    year_without = []\n",
    "    year_with = []\n",
    "    for year in all_years:\n",
    "        year_df_without = search_results_all[base_query][search_results_all[base_query]['Publication Year'] == year]\n",
    "        year_df_with = search_results_all[full_query][search_results_all[full_query]['Publication Year'] == year]\n",
    "\n",
    "        for _ in range(len(year_df_without.index)):\n",
    "            year_without.append(year)\n",
    "        for _ in range(len(year_df_with.index)):\n",
    "            year_with.append(year)\n",
    "\n",
    "    plt.figure(figsize=(10,6))\n",
    "    plt.hist(year_without, facecolor='k', edgecolor='w', bins=np.arange(len(all_years)+1)-0.5)\n",
    "    plt.savefig(os.path.join(write_dir, 'without-constraints_histogram.jpg'))\n",
    "    plt.xlabel('Year', fontsize=12)\n",
    "    plt.ylabel('Number of Publications', fontsize=12)\n",
    "    plt.show()\n",
    "\n",
    "    plt.figure(figsize=(10,6))\n",
    "    plt.hist(year_with, facecolor='k', edgecolor='w', bins=np.arange(len(all_years)+1)-0.5)\n",
    "    plt.savefig(os.path.join(write_dir, 'with-constraints_histogram.jpg'))\n",
    "    plt.xlabel('Year', fontsize=12)\n",
    "    plt.ylabel('Number of Publications', fontsize=12)\n",
    "    plt.show()"
   ]
  },
  {
   "cell_type": "code",
   "execution_count": null,
   "metadata": {},
   "outputs": [],
   "source": [
    "# DO: Create a file called without-constraints-inspected.tsv and mark the second column with T/F for true/false positives.\n"
   ]
  },
  {
   "cell_type": "code",
   "execution_count": null,
   "metadata": {},
   "outputs": [],
   "source": [
    "# Look at the effect of restricting the search by additional criteria.\n",
    "# The differences show that many false positives, and a few true positives, are removed.\n",
    "reuse.showdiff(search_results[search_strings[0]],\n",
    "               search_results[search_strings[1]])"
   ]
  },
  {
   "cell_type": "code",
   "execution_count": null,
   "metadata": {},
   "outputs": [],
   "source": [
    "# Read in the labelled results for the general unconstrained search query\n",
    "labelled_results = pd.read_csv(os.path.join(write_dir, 'without-constraints-inspected.tsv'), delimiter='\\t', header=None)\n",
    "false_positives = labelled_results.loc[labelled_results[1]=='F'][0].values\n",
    "true_positives = labelled_results.loc[labelled_results[1]=='T'][0].values\n",
    "print('Number of results found using the unconstrained search term:', len(labelled_results))\n",
    "print('Number of false positives:',len(false_positives))\n",
    "print('Number of true positives:',len(true_positives))\n",
    "\n",
    "constrained_titles = search_results[search_strings[1]].paper_titles\n",
    "print('\\nCompare ^ true positives with:')\n",
    "print('Number of results from the constrained search term:', len(constrained_titles))\n",
    "\n",
    "missed_papers = set(true_positives) - set(constrained_titles)\n",
    "print('Number of missed true positives:', len(missed_papers))"
   ]
  },
  {
   "cell_type": "code",
   "execution_count": null,
   "metadata": {},
   "outputs": [],
   "source": [
    "# Take a look at some True positives missed by the constrained search term to figure out what else you can add.\n",
    "# Write to a file to label comments.\n",
    "write_dir = os.path.join('search_results', 'pubmed')\n",
    "\n",
    "missed_papers_file = os.path.join(write_dir, 'missed-papers.tsv')\n",
    "\n",
    "with open(missed_papers_file, 'w') as f:\n",
    "    for line in missed_papers:\n",
    "        f.write(line+'\\n')\n",
    "\n",
    "display(missed_papers)"
   ]
  },
  {
   "cell_type": "code",
   "execution_count": null,
   "metadata": {},
   "outputs": [],
   "source": []
  },
  {
   "cell_type": "markdown",
   "metadata": {},
   "source": [
    "# 2. Web of Science"
   ]
  },
  {
   "cell_type": "code",
   "execution_count": null,
   "metadata": {},
   "outputs": [],
   "source": [
    "from selenium import webdriver\n",
    "from selenium.webdriver.common.keys import Keys\n",
    "import re\n",
    "import time\n",
    "from IPython.display import display\n",
    "\n",
    "\n",
    "restriction_query = '(physionet OR icu OR “intensive care” OR “critical care”)'\n",
    "def full_query(base_query, restriction_query):\n",
    "    return ' AND '.join([base_query, restriction_query])\n",
    "full_mimic_query = full_query(MIMIC_QUERY, restriction_query)\n",
    "#base_search_url = 'https://apps.webofknowledge.com/WOS_GeneralSearch_input.do?product=WOS&search_mode=GeneralSearch&SID=2F46AeWkMQBRAZlzDWm&preferencesSaved='\n",
    "base_search_url = 'https://apps.webofknowledge.com/WOS_GeneralSearch_input.do?product=WOS&search_mode=GeneralSearch&SID=1AnC2UMojuKrtrl7T5R&preferencesSaved='\n",
    "\n",
    "all_titles = []"
   ]
  },
  {
   "cell_type": "code",
   "execution_count": null,
   "metadata": {},
   "outputs": [],
   "source": [
    "# Get to the search page\n",
    "driver = webdriver.Firefox()\n",
    "driver.get(base_search_url)\n",
    "\n",
    "# Input the query string\n",
    "time.sleep(2.5)\n",
    "searchbox = driver.find_element_by_id('value(input1)')\n",
    "searchbox.send_keys(full_mimic_query)\n",
    "\n",
    "# Search\n",
    "time.sleep(1)\n",
    "searchbutton = driver.find_element_by_css_selector('.standard-button.primary-button.large-search-button')\n",
    "searchbutton.click()\n",
    "\n",
    "# Get the total number of pages\n",
    "npages = int(driver.find_element_by_id('pageCount.top').text)"
   ]
  },
  {
   "cell_type": "code",
   "execution_count": null,
   "metadata": {},
   "outputs": [],
   "source": [
    "# Get the titles!!!\n",
    "while True:\n",
    "    # Get the current page number\n",
    "    pagenum = int(driver.find_element_by_class_name('goToPageNumber-input').get_property('value'))\n",
    "\n",
    "    # Get the titles. This also captures the journals. So every second value is not a title.\n",
    "    elements = driver.find_elements_by_class_name('smallV110')\n",
    "\n",
    "    for e in elements[::2]:\n",
    "        all_titles.append(e.find_element_by_tag_name('value').text)\n",
    "        \n",
    "    if pagenum < npages:\n",
    "        nextbutton = driver.find_element_by_class_name('paginationNext')\n",
    "        nextbutton.click()\n",
    "    else:\n",
    "        print('Got all paper titles!')\n",
    "        driver.close()\n",
    "        break\n",
    "        \n",
    "all_titles = set(all_titles)\n",
    "#all_titles.remove('')\n",
    "all_titles = [t.lower() for t in list(all_titles)]"
   ]
  },
  {
   "cell_type": "code",
   "execution_count": null,
   "metadata": {},
   "outputs": [],
   "source": [
    "display(all_titles)"
   ]
  },
  {
   "cell_type": "code",
   "execution_count": null,
   "metadata": {},
   "outputs": [],
   "source": [
    "# Write the titles to files\n",
    "write_dir = os.path.join('search_results/wos')\n",
    "\n",
    "full_query_file = os.path.join(write_dir, 'with-constraints.txt')\n",
    "\n",
    "with open(full_query_file, 'w') as f:\n",
    "    for line in all_titles:\n",
    "        f.write(line+'\\n')"
   ]
  },
  {
   "cell_type": "code",
   "execution_count": null,
   "metadata": {},
   "outputs": [],
   "source": []
  },
  {
   "cell_type": "markdown",
   "metadata": {},
   "source": [
    "# 3. SCOPUS\n",
    "\n",
    "Shit search"
   ]
  },
  {
   "cell_type": "markdown",
   "metadata": {},
   "source": [
    "# 4. IEEE"
   ]
  },
  {
   "cell_type": "code",
   "execution_count": null,
   "metadata": {},
   "outputs": [],
   "source": [
    "from selenium import webdriver\n",
    "from selenium.webdriver.common.keys import Keys\n",
    "import re\n",
    "import time\n",
    "from IPython.display import display\n",
    "import os\n",
    "\n",
    "restriction_query = '(physionet OR icu OR “intensive care” OR “critical care”)'\n",
    "def full_query(base_query, restriction_query):\n",
    "    return ' AND '.join([base_query, restriction_query])\n",
    "full_mimic_query = full_query(MIMIC_QUERY, restriction_query)\n",
    "base_search_url = 'http://ieeexplore.ieee.org/search/advsearch.jsp?expression-builder'\n",
    "all_titles = []"
   ]
  },
  {
   "cell_type": "code",
   "execution_count": null,
   "metadata": {},
   "outputs": [],
   "source": [
    "# Get to the search page\n",
    "driver = webdriver.Firefox()\n",
    "driver.get(base_search_url)\n",
    "\n",
    "# Input the query string\n",
    "searchbox = driver.find_element_by_id('expression-textarea')\n",
    "searchbox.send_keys(full_mimic_query)\n",
    "# Select the 'full text and metadata' box\n",
    "radiobutton = driver.find_element_by_id('Search_All_Text')\n",
    "radiobutton.click()\n",
    "\n",
    "# Search\n",
    "time.sleep(1)\n",
    "searchbutton = driver.find_element_by_class_name('stats-Adv_Command_search')\n",
    "searchbutton.click()\n",
    "\n",
    "# Get the total number of pages\n",
    "#npages = int(driver.find_element_by_id('pageCount.top').text)"
   ]
  },
  {
   "cell_type": "code",
   "execution_count": null,
   "metadata": {},
   "outputs": [],
   "source": [
    "# Get the titles!!!\n",
    "while True:\n",
    "    # let the page load\n",
    "    time.sleep(2)\n",
    "    # Get scroll height\n",
    "    last_height = driver.execute_script(\"return document.body.scrollHeight\")\n",
    "    while True:\n",
    "        driver.execute_script(\"window.scrollTo(0, document.body.scrollHeight);\")\n",
    "        time.sleep(0.5)\n",
    "        new_height = driver.execute_script(\"return document.body.scrollHeight\")\n",
    "        if new_height == last_height:\n",
    "            break\n",
    "        last_height = new_height\n",
    "        \n",
    "    # Get the titles.\n",
    "    # They are in: <h2 class=\"result-item-title\"><a class=\"ng-binding ng-scope\">title</a></h2>\n",
    "    elements = driver.find_elements_by_class_name('result-item-title')\n",
    "    for e in elements:\n",
    "        # Text may appear with \"[::sometext::]\"\n",
    "        all_titles.append(e.find_element_by_tag_name('a').get_attribute('text').replace('[::', '').replace('::]', ''))\n",
    "        # New line separated journal info and such\n",
    "        #all_titles.append(e.text.split('\\n')[0])\n",
    "    \n",
    "    # Click next page if any\n",
    "    \n",
    "    e = driver.find_element_by_class_name('next')\n",
    "    if 'disabled' in e.get_attribute('class'):\n",
    "        print('Got all paper titles!')\n",
    "        driver.close()\n",
    "        break\n",
    "    else:\n",
    "        nextbutton = driver.find_element_by_link_text('>')\n",
    "        nextbutton.click()\n",
    "\n",
    "all_titles = set(all_titles)\n",
    "all_titles = [t.lower() for t in list(all_titles)]"
   ]
  },
  {
   "cell_type": "code",
   "execution_count": null,
   "metadata": {},
   "outputs": [],
   "source": [
    "print(len(all_titles))\n",
    "display(all_titles)"
   ]
  },
  {
   "cell_type": "code",
   "execution_count": null,
   "metadata": {},
   "outputs": [],
   "source": [
    "# Write the titles to files\n",
    "write_dir = os.path.join('search_results/ieee')\n",
    "\n",
    "full_query_file = os.path.join(write_dir, 'with-constraints.txt')\n",
    "\n",
    "with open(full_query_file, 'w') as f:\n",
    "    for line in all_titles:\n",
    "        f.write(line+'\\n')"
   ]
  },
  {
   "cell_type": "code",
   "execution_count": null,
   "metadata": {},
   "outputs": [],
   "source": []
  },
  {
   "cell_type": "markdown",
   "metadata": {},
   "source": [
    "# Combining Results - pubmed, wos, ieee"
   ]
  },
  {
   "cell_type": "code",
   "execution_count": null,
   "metadata": {},
   "outputs": [],
   "source": [
    "result_dir = 'search_results'\n",
    "\n",
    "combined_results = []\n",
    "for service in ['pubmed', 'wos', 'ieee']:\n",
    "    # For pubmed, get the curated true positives from the unconstrained search instead\n",
    "    if service == 'pubmed':\n",
    "        df = pd.read_csv(os.path.join(result_dir, service, 'without-constraints-inspected.tsv'), delimiter='\\t', header=None)\n",
    "        service_results = list(df.loc[df[1]=='T'][0].values)\n",
    "    # For other services, get the constrained search results\n",
    "    else:\n",
    "        with open(os.path.join(result_dir, service, 'with-constraints.txt')) as f:\n",
    "            service_results = f.readlines()\n",
    "    print('Number of results from service '+service+': '+str(len(service_results)))\n",
    "    combined_results = combined_results + [r.strip() for r in service_results]\n",
    "\n",
    "print('\\nTotal number of non-unique results: ', len(combined_results))\n",
    "combined_results = sorted(list(set(combined_results)))\n",
    "print('Total number of unique results: ', len(combined_results))\n",
    "with open(os.path.join(result_dir, 'combined', 'with-constraints.txt'), 'w') as f:\n",
    "    for r in combined_results:\n",
    "        f.write(r+'\\n')"
   ]
  },
  {
   "cell_type": "code",
   "execution_count": null,
   "metadata": {},
   "outputs": [],
   "source": [
    "# may 21 2018\n",
    "Number of results from service pubmed: 155\n",
    "Number of results from service wos: 152\n",
    "Number of results from service ieee: 322\n",
    "\n",
    "Total number of non-unique results:  629\n",
    "Total number of unique results:  456\n"
   ]
  },
  {
   "cell_type": "markdown",
   "metadata": {},
   "source": [
    "# Attempting to parse GS automatically failed. Below is evidence of failure. Can ignore..."
   ]
  },
  {
   "cell_type": "markdown",
   "metadata": {},
   "source": [
    "# N. Search Google Scholar\n",
    "\n",
    "Packages found online:\n",
    "- https://github.com/ckreibich/scholar.py\n",
    "- https://github.com/venthur/gscholar\n",
    "- https://github.com/adeel/google-scholar-scraper\n",
    "- http://code.activestate.com/recipes/523047-search-google-scholar/\n",
    "- https://github.com/erdiaker/torrequest\n",
    "- https://github.com/NikolaiT/GoogleScraper\n",
    "\n",
    "\n",
    "- https://stackoverflow.com/questions/8049520/web-scraping-javascript-page-with-python\n",
    "\n",
    "\n",
    "Query: `(\"mimic ii\" OR \"mimic iii\") AND (\"database\" OR \"clinical\" OR \"waveform\" OR ICU)`\n",
    "\n",
    "https://scholar.google.com/scholar?q=%28mimic-ii+OR+mimic-iii%29&btnG=&hl=en&as_sdt=1%2C22&as_vis=1\n",
    "\n",
    "https://scholar.google.com/scholar/help.html\n",
    "\n",
    "\n",
    "https://superuser.com/questions/565722/how-to-config-tor-to-use-a-http-socks-proxy\n",
    "\n",
    "## Requirements\n",
    "\n",
    "1. Browse with JS enabled. requests library uses http. Otherwise google will think (correctly) that you are a robot.\n",
    "2. Change IP every time, or google will block."
   ]
  },
  {
   "cell_type": "code",
   "execution_count": null,
   "metadata": {},
   "outputs": [],
   "source": [
    "from scholarly import scholarly"
   ]
  },
  {
   "cell_type": "code",
   "execution_count": null,
   "metadata": {},
   "outputs": [],
   "source": [
    "PROJECT = 'eICU'\n",
    "\n",
    "# Search by Google Scholar publication ID\n",
    "search_results = []\n",
    "if PROJECT == 'eICU':\n",
    "    try:\n",
    "        search_results.append(scholarly.search_citedby(11878669525996073977))\n",
    "    except Exception as e:\n",
    "        print(e)\n",
    "\n",
    "total_results = search_results[0].total_results"
   ]
  },
  {
   "cell_type": "code",
   "execution_count": null,
   "metadata": {},
   "outputs": [],
   "source": [
    "# all_pubs = list(search_results)\n",
    "all_pubs = []\n",
    "for i in range(total_results):\n",
    "    print(100*i/total_results)\n",
    "    try:\n",
    "        ct = next(search_results)\n",
    "        all_pubs.append({\n",
    "            'title': ct['bib']['title'],\n",
    "            'pub_year': ct['bib']['pub_year']\n",
    "        })\n",
    "    except:\n",
    "        pass\n",
    "# print(all_pubs)"
   ]
  },
  {
   "cell_type": "markdown",
   "metadata": {},
   "source": [
    "# Manually get the number of citations from Google Scholar\n",
    "## Methods:\n",
    "### 1. Go to: https://scholar.google.com/\n",
    "### 2. Type a query to get a specific MIMIC DB, i.e., \"`mimic-iv`\" for MIMIC-IV\n",
    "### 3. Find the original paper (usually the first result, or top cited one)\n",
    "### 4. Click on \"`Cited by ###`\" underneath the brief abstract\n",
    "### 5. On the left side, click \"`Custom range...`\"\n",
    "### 6. In both boxes, type the year you want to query, i.e., \"`2023 - 2023`\" to return results for only 2023, click \"`Search`\"\n",
    "### 7. At the top, under the search bar is the number of citations that year (note, the \"`About ### results`\" is the exact number of results until around 1000 or so when it rounds to the nearest 20 I think due to the massive pagination request but still close enough at those numbers)\n",
    "\n",
    "----\n",
    "### TODO: automate this!!! but I know GS will get mad at me for all those requests ..."
   ]
  },
  {
   "cell_type": "code",
   "execution_count": 119,
   "metadata": {},
   "outputs": [],
   "source": [
    "google_scholar_mimic_pubs = {\n",
    "    'mimic-i': {\n",
    "        '1997' :   2,\n",
    "        '1998' :   1,\n",
    "        '1999' :   2,\n",
    "        '2000' :   4,\n",
    "        '2001' :   4,\n",
    "        '2002' :   4,\n",
    "        '2003' :   3,\n",
    "        '2004' :   7,\n",
    "        '2005' :   5,\n",
    "        '2006' :  10,\n",
    "        '2007' :  12,\n",
    "        '2008' :   3,\n",
    "        '2009' :   9,\n",
    "        '2010' :  10,\n",
    "        '2011' :  12,\n",
    "        '2012' :   7,\n",
    "        '2013' :   9,\n",
    "        '2014' :   7,\n",
    "        '2015' :  13,\n",
    "        '2016' :  18,\n",
    "        '2017' :  25,\n",
    "        '2018' :  14,\n",
    "        '2019' :  17,\n",
    "        '2020' :  30,\n",
    "        '2021' :  29,\n",
    "        '2022' :  23,\n",
    "        '2023' :  19,\n",
    "        '2024' :   0\n",
    "    },\n",
    "    'mimic-ii': {\n",
    "        '1997' :    0,\n",
    "        '1998' :    0,\n",
    "        '1999' :    0,\n",
    "        '2000' :    0,\n",
    "        '2001' :    0,\n",
    "        '2002' :    0,\n",
    "        '2003' :    0,\n",
    "        '2004' :    0,\n",
    "        '2005' :    0,\n",
    "        '2006' :    0,\n",
    "        '2007' :    0,\n",
    "        '2008' :    0,\n",
    "        '2009' :    0,\n",
    "        '2010' :    0,\n",
    "        '2011' :   11,\n",
    "        '2012' :   37,\n",
    "        '2013' :   53,\n",
    "        '2014' :   81,\n",
    "        '2015' :  126,\n",
    "        '2016' :  175,\n",
    "        '2017' :  116,\n",
    "        '2018' :  122,\n",
    "        '2019' :  115,\n",
    "        '2020' :  118,\n",
    "        '2021' :  101,\n",
    "        '2022' :  112,\n",
    "        '2023' :   91,\n",
    "        '2024' :    0\n",
    "    },\n",
    "    'mimic-iii': {\n",
    "        '1997' :    0,\n",
    "        '1998' :    0,\n",
    "        '1999' :    0,\n",
    "        '2000' :    0,\n",
    "        '2001' :    0,\n",
    "        '2002' :    0,\n",
    "        '2003' :    0,\n",
    "        '2004' :    0,\n",
    "        '2005' :    0,\n",
    "        '2006' :    0,\n",
    "        '2007' :    0,\n",
    "        '2008' :    0,\n",
    "        '2009' :    0,\n",
    "        '2010' :    0,\n",
    "        '2011' :    0,\n",
    "        '2012' :    0,\n",
    "        '2013' :    0,\n",
    "        '2014' :    1,\n",
    "        '2014' :    0,\n",
    "        '2015' :    0,\n",
    "        '2016' :   24,\n",
    "        '2017' :  147,\n",
    "        '2018' :  428,\n",
    "        '2019' :  650,\n",
    "        '2020' :  960,\n",
    "        '2021' : 1260,\n",
    "        '2022' : 1440,\n",
    "        '2023' : 1280,\n",
    "        '2024' :    7\n",
    "    },\n",
    "    'mimic-iv': {\n",
    "        '1997' :   0,\n",
    "        '1998' :   0,\n",
    "        '1999' :   0,\n",
    "        '2000' :   0,\n",
    "        '2001' :   0,\n",
    "        '2002' :   0,\n",
    "        '2003' :   0,\n",
    "        '2004' :   0,\n",
    "        '2005' :   0,\n",
    "        '2006' :   0,\n",
    "        '2007' :   0,\n",
    "        '2008' :   0,\n",
    "        '2009' :   0,\n",
    "        '2010' :   0,\n",
    "        '2011' :   0,\n",
    "        '2012' :   0,\n",
    "        '2013' :   0,\n",
    "        '2014' :   0,\n",
    "        '2014' :   0,\n",
    "        '2015' :   0,\n",
    "        '2016' :   0,\n",
    "        '2017' :   0,\n",
    "        '2018' :   0,\n",
    "        '2019' :   0,\n",
    "        '2020' :   5,\n",
    "        '2021' :  57,\n",
    "        '2022' : 215,\n",
    "        '2023' : 272,\n",
    "        '2024' :   0\n",
    "    },\n",
    "    'mimic-cxr': {\n",
    "        '1997' :   0,\n",
    "        '1998' :   0,\n",
    "        '1999' :   0,\n",
    "        '2000' :   0,\n",
    "        '2001' :   0,\n",
    "        '2002' :   0,\n",
    "        '2003' :   0,\n",
    "        '2004' :   0,\n",
    "        '2005' :   0,\n",
    "        '2006' :   0,\n",
    "        '2007' :   0,\n",
    "        '2008' :   0,\n",
    "        '2009' :   0,\n",
    "        '2010' :   0,\n",
    "        '2011' :   0,\n",
    "        '2012' :   0,\n",
    "        '2013' :   0,\n",
    "        '2014' :   0,\n",
    "        '2014' :   0,\n",
    "        '2015' :   0,\n",
    "        '2016' :   0,\n",
    "        '2017' :   0,\n",
    "        '2018' :   0,\n",
    "        '2019' :   0,\n",
    "        '2020' :  24,\n",
    "        '2021' :  92,\n",
    "        '2022' : 181,\n",
    "        '2023' : 287,\n",
    "        '2024' :   0\n",
    "    }\n",
    "}"
   ]
  },
  {
   "cell_type": "markdown",
   "metadata": {},
   "source": [
    "# Graph the results"
   ]
  },
  {
   "cell_type": "code",
   "execution_count": 151,
   "metadata": {},
   "outputs": [
    {
     "name": "stderr",
     "output_type": "stream",
     "text": [
      "c:\\Users\\lbmccullum\\OneDrive - Inside MD Anderson\\Documents\\citation-tracker\\env\\lib\\site-packages\\ipykernel_launcher.py:17: VisibleDeprecationWarning: Creating an ndarray from ragged nested sequences (which is a list-or-tuple of lists-or-tuples-or ndarrays with different lengths or shapes) is deprecated. If you meant to do this, you must specify 'dtype=object' when creating the ndarray.\n",
      "  app.launch_new_instance()\n"
     ]
    },
    {
     "data": {
      "image/png": "[encoded data removed]",
      "text/plain": [
       "<Figure size 800x600 with 1 Axes>"
      ]
     },
     "metadata": {},
     "output_type": "display_data"
    }
   ],
   "source": [
    "colors = [\n",
    "    'cornflowerblue',\n",
    "    'lightsteelblue',\n",
    "    'dimgray',\n",
    "    'lightcoral',\n",
    "    'firebrick'\n",
    "]\n",
    "min_year = 2005\n",
    "ytick_interval = 1000\n",
    "\n",
    "years = [int(y) for y in google_scholar_mimic_pubs[list(google_scholar_mimic_pubs.keys())[0]].keys()]\n",
    "db_order = ['mimic-i','mimic-ii','mimic-iii','mimic-iv','mimic-cxr']\n",
    "\n",
    "plt.figure(figsize=(8,6))\n",
    "graph_data = []\n",
    "for db in google_scholar_mimic_pubs.keys():\n",
    "    graph_data.append(np.concatenate(np.array([np.array(v*[int(y)]) for y,v in google_scholar_mimic_pubs[db].items()]).flatten()))\n",
    "max_citations = np.concatenate(graph_data).shape[0]\n",
    "\n",
    "plt.hist(graph_data, len(graph_data[0]), color=colors, label=[s.upper() for s in db_order], cumulative=1, stacked=True, density=False, zorder=3)\n",
    "plt.xlim([min_year, max(years)-0.08])\n",
    "plt.xticks(rotation=-45)\n",
    "ax = plt.gca()\n",
    "ax.tick_params(axis='both', which='major', labelsize=12)\n",
    "ax.tick_params(axis='both', which='minor', labelsize=10)\n",
    "ax.set_xticks(np.arange(min_year, max(years), 1) + 0.5)\n",
    "ax.set_xticklabels(np.arange(min_year, max(years), 1), fontsize=12)\n",
    "ax.set_yticks(np.arange(0, max_citations+ytick_interval, ytick_interval))\n",
    "ax.set_yticklabels(np.arange(0, max_citations+ytick_interval, ytick_interval), fontsize=12)\n",
    "plt.xlabel('Publication Year', fontsize=14)\n",
    "plt.ylabel('Total Number of Publications', fontsize=14)\n",
    "handles, labels = plt.gca().get_legend_handles_labels()\n",
    "order = np.arange(len(db_order)-1, -1, -1)\n",
    "legend = plt.legend([handles[i] for i in order], [labels[i] for i in order], loc='upper left', fontsize=12)\n",
    "legend.get_frame().set_alpha(1)\n",
    "plt.grid(zorder=-1, axis='y')\n",
    "plt.tight_layout()\n",
    "plt.savefig(os.path.join('search_results', 'google_scholar', 'cumulative_histogram.png'))\n",
    "plt.show()"
   ]
  },
  {
   "cell_type": "markdown",
   "metadata": {},
   "source": [
    "# Plot the growth of each DB adjusted from the start time"
   ]
  },
  {
   "cell_type": "code",
   "execution_count": 152,
   "metadata": {},
   "outputs": [
    {
     "data": {
      "image/png": "[encoded data removed]",
      "text/plain": [
       "<Figure size 800x600 with 1 Axes>"
      ]
     },
     "metadata": {},
     "output_type": "display_data"
    }
   ],
   "source": [
    "colors = [\n",
    "    'cornflowerblue',\n",
    "    'lightsteelblue',\n",
    "    'dimgray',\n",
    "    'lightcoral',\n",
    "    'firebrick'\n",
    "]\n",
    "max_year = 2023\n",
    "\n",
    "years = [int(y) for y in google_scholar_mimic_pubs[list(google_scholar_mimic_pubs.keys())[0]].keys()]\n",
    "db_order = ['mimic-i','mimic-ii','mimic-iii','mimic-iv','mimic-cxr']\n",
    "\n",
    "plt.figure(figsize=(8,6))\n",
    "\n",
    "for i,db in enumerate(db_order):\n",
    "    for y,v in google_scholar_mimic_pubs[db].items():\n",
    "        if v != 0:\n",
    "            start_year = int(y)\n",
    "            break\n",
    "    y_data = [v for y,v in google_scholar_mimic_pubs[db].items() if ((int(y) >= start_year) and (int(y) <= max_year))]\n",
    "    y_data = np.cumsum(y_data)\n",
    "    x_data = range(len(y_data))\n",
    "    plt.plot(x_data, y_data, color=colors[i], label=db.upper())\n",
    "\n",
    "plt.xlabel('Years Since Publication', fontsize=14)\n",
    "plt.ylabel('Total Number of Publications', fontsize=14)\n",
    "handles, labels = plt.gca().get_legend_handles_labels()\n",
    "order = np.arange(len(db_order)-1, -1, -1)\n",
    "legend = plt.legend([handles[i] for i in order], [labels[i] for i in order], loc='upper right', fontsize=12)\n",
    "legend.get_frame().set_alpha(1)\n",
    "plt.grid(zorder=-1, axis='y')\n",
    "plt.tight_layout()\n",
    "plt.savefig(os.path.join('search_results', 'google_scholar', 'cumulative_line-plot_baseline.png'))\n",
    "plt.show()"
   ]
  },
  {
   "cell_type": "code",
   "execution_count": null,
   "metadata": {},
   "outputs": [],
   "source": []
  }
 ],
 "metadata": {
  "kernelspec": {
   "display_name": "Python 3",
   "language": "python",
   "name": "python3"
  },
  "language_info": {
   "codemirror_mode": {
    "name": "ipython",
    "version": 3
   },
   "file_extension": ".py",
   "mimetype": "text/x-python",
   "name": "python",
   "nbconvert_exporter": "python",
   "pygments_lexer": "ipython3",
   "version": "3.7.9"
  }
 },
 "nbformat": 4,
 "nbformat_minor": 2
}
